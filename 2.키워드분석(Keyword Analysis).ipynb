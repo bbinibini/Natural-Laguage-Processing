{
 "cells": [
  {
   "cell_type": "markdown",
   "metadata": {},
   "source": [
    "# 키워드 분석(Keyword Analysis)\n",
    "\n",
    "* 핵심어(keyword)란 텍스트 자료의 중요한 내용을 압축적으로 제시하는 단어 또는 문구\n",
    "* 핵심어 분석이란 불용어 제거와 어간 추출 및 형태소 분석 등의 자연어 처리를 시행한 후 텍스트에서 많이 등장하는 형태소의 등장 빈도를 분석함으로써 핵심어를 추출\n",
    "* 특정 텍스트 자료에 많이 나타나는 형태소가 그 텍스트 주제를 표출할 가능성이 높다는 가정에 기초\n",
    "* 조사와 같이 의미를 별로 담고있지 않은 불용어는 제외\n",
    "* 키워드 분석은 텍스트의 주제 추정, 텍스트 유사도, 검색 결과 우선 순위 측정 등 다양하게 사용될 수 있음\n",
    "* 너무 빈도가 높아서 오히려 방해가 되는 것도 있음. 이것도 제외해야 함"
   ]
  },
  {
   "cell_type": "markdown",
   "metadata": {},
   "source": [
    "## 한글 폰트 설정\n",
    "* 실행 후 런타임 재시작 필요"
   ]
  },
  {
   "cell_type": "code",
   "execution_count": 1,
   "metadata": {},
   "outputs": [],
   "source": [
    "import matplotlib as mpl\n",
    "import matplotlib.pyplot as plt\n",
    "import matplotlib.font_manager as fm"
   ]
  },
  {
   "cell_type": "code",
   "execution_count": 2,
   "metadata": {},
   "outputs": [
    {
     "name": "stdout",
     "output_type": "stream",
     "text": [
      "버전:  3.1.3\n",
      "설치 위치:  C:\\Users\\bini\\anaconda3\\envs\\anaconda\\lib\\site-packages\\matplotlib\\__init__.py\n",
      "설정 위치:  C:\\Users\\bini\\.matplotlib\n",
      "캐시 위치:  C:\\Users\\bini\\.matplotlib\n",
      "설정파일 위치:  C:\\Users\\bini\\anaconda3\\envs\\anaconda\\lib\\site-packages\\matplotlib\\mpl-data\\matplotlibrc\n"
     ]
    }
   ],
   "source": [
    "print ('버전: ', mpl.__version__)\n",
    "print ('설치 위치: ', mpl.__file__)\n",
    "print ('설정 위치: ', mpl.get_configdir())\n",
    "print ('캐시 위치: ', mpl.get_cachedir())\n",
    "print ('설정파일 위치: ', mpl.matplotlib_fname())\n",
    "# 파일 위치에 나눔글꼴 설치 후 아래코드 실행해야 경로 찾음\n",
    "fm._rebuild()\n",
    "#matplotlibrc 파일 수정함"
   ]
  },
  {
   "cell_type": "code",
   "execution_count": 4,
   "metadata": {
    "scrolled": true
   },
   "outputs": [
    {
     "data": {
      "image/png": "[encoded data removed]",
      "text/plain": [
       "<Figure size 432x288 with 1 Axes>"
      ]
     },
     "metadata": {
      "needs_background": "light"
     },
     "output_type": "display_data"
    }
   ],
   "source": [
    "#테스트\n",
    "\n",
    "plt.scatter([0, 1, 2, 3, 4, 5], [0, 1, 2, 3, 4, 5])\n",
    "plt.title('산점도')\n",
    "plt.xlabel('변수1')\n",
    "plt.ylabel('변수2')\n",
    "plt.grid(True)\n",
    "plt.show()"
   ]
  },
  {
   "cell_type": "markdown",
   "metadata": {},
   "source": [
    "## 한국어 자연어 처리 konlpy와 형태소 분석기 MeCab 설치"
   ]
  },
  {
   "cell_type": "markdown",
   "metadata": {},
   "source": [
    "## 네이버 영화 리뷰 데이터\n",
    "* 키워드 분석에는 네이버 영화 리뷰 데이터를 사용\n",
    "* 데이터 다운로드: https://raw.githubusercontent.com/e9t/nsmc/master/ratings.txt"
   ]
  },
  {
   "cell_type": "code",
   "execution_count": 17,
   "metadata": {},
   "outputs": [
    {
     "name": "stdout",
     "output_type": "stream",
     "text": [
      "[b'id\\tdocument\\tlabel\\n', b'8112052\\t\\xec\\x96\\xb4\\xeb\\xa6\\xb4\\xeb\\x95\\x8c\\xeb\\xb3\\xb4\\xea\\xb3\\xa0 \\xec\\xa7\\x80\\xea\\xb8\\x88\\xeb\\x8b\\xa4\\xec\\x8b\\x9c\\xeb\\xb4\\x90\\xeb\\x8f\\x84 \\xec\\x9e\\xac\\xeb\\xb0\\x8c\\xec\\x96\\xb4\\xec\\x9a\\x94\\xe3\\x85\\x8b\\xe3\\x85\\x8b\\t1\\n', b'8132799\\t\\xeb\\x94\\x94\\xec\\x9e\\x90\\xec\\x9d\\xb8\\xec\\x9d\\x84 \\xeb\\xb0\\xb0\\xec\\x9a\\xb0\\xeb\\x8a\\x94 \\xed\\x95\\x99\\xec\\x83\\x9d\\xec\\x9c\\xbc\\xeb\\xa1\\x9c, \\xec\\x99\\xb8\\xea\\xb5\\xad\\xeb\\x94\\x94\\xec\\x9e\\x90\\xec\\x9d\\xb4\\xeb\\x84\\x88\\xec\\x99\\x80 \\xea\\xb7\\xb8\\xeb\\x93\\xa4\\xec\\x9d\\xb4 \\xec\\x9d\\xbc\\xea\\xb5\\xb0 \\xec\\xa0\\x84\\xed\\x86\\xb5\\xec\\x9d\\x84 \\xed\\x86\\xb5\\xed\\x95\\xb4 \\xeb\\xb0\\x9c\\xec\\xa0\\x84\\xed\\x95\\xb4\\xea\\xb0\\x80\\xeb\\x8a\\x94 \\xeb\\xac\\xb8\\xed\\x99\\x94\\xec\\x82\\xb0\\xec\\x97\\x85\\xec\\x9d\\xb4 \\xeb\\xb6\\x80\\xeb\\x9f\\xac\\xec\\x9b\\xa0\\xeb\\x8a\\x94\\xeb\\x8d\\xb0. \\xec\\x82\\xac\\xec\\x8b\\xa4 \\xec\\x9a\\xb0\\xeb\\xa6\\xac\\xeb\\x82\\x98\\xeb\\x9d\\xbc\\xec\\x97\\x90\\xec\\x84\\x9c\\xeb\\x8f\\x84 \\xea\\xb7\\xb8 \\xec\\x96\\xb4\\xeb\\xa0\\xa4\\xec\\x9a\\xb4\\xec\\x8b\\x9c\\xec\\xa0\\x88\\xec\\x97\\x90 \\xeb\\x81\\x9d\\xea\\xb9\\x8c\\xec\\xa7\\x80 \\xec\\x97\\xb4\\xec\\xa0\\x95\\xec\\x9d\\x84 \\xec\\xa7\\x80\\xed\\x82\\xa8 \\xeb\\x85\\xb8\\xeb\\x9d\\xbc\\xeb\\x85\\xb8 \\xea\\xb0\\x99\\xec\\x9d\\x80 \\xec\\xa0\\x84\\xed\\x86\\xb5\\xec\\x9d\\xb4\\xec\\x9e\\x88\\xec\\x96\\xb4 \\xec\\xa0\\x80\\xec\\x99\\x80 \\xea\\xb0\\x99\\xec\\x9d\\x80 \\xec\\x82\\xac\\xeb\\x9e\\x8c\\xeb\\x93\\xa4\\xec\\x9d\\xb4 \\xea\\xbf\\x88\\xec\\x9d\\x84 \\xea\\xbe\\xb8\\xea\\xb3\\xa0 \\xec\\x9d\\xb4\\xeb\\xa4\\x84\\xeb\\x82\\x98\\xea\\xb0\\x88 \\xec\\x88\\x98 \\xec\\x9e\\x88\\xeb\\x8b\\xa4\\xeb\\x8a\\x94 \\xea\\xb2\\x83\\xec\\x97\\x90 \\xea\\xb0\\x90\\xec\\x82\\xac\\xed\\x95\\xa9\\xeb\\x8b\\x88\\xeb\\x8b\\xa4.\\t1\\n', b'4655635\\t\\xed\\x8f\\xb4\\xeb\\xa6\\xac\\xec\\x8a\\xa4\\xec\\x8a\\xa4\\xed\\x86\\xa0\\xeb\\xa6\\xac \\xec\\x8b\\x9c\\xeb\\xa6\\xac\\xec\\xa6\\x88\\xeb\\x8a\\x94 1\\xeb\\xb6\\x80\\xed\\x84\\xb0 \\xeb\\x89\\xb4\\xea\\xb9\\x8c\\xec\\xa7\\x80 \\xeb\\xb2\\x84\\xeb\\xa6\\xb4\\xea\\xbb\\x98 \\xed\\x95\\x98\\xeb\\x82\\x98\\xeb\\x8f\\x84 \\xec\\x97\\x86\\xec\\x9d\\x8c.. \\xec\\xb5\\x9c\\xea\\xb3\\xa0.\\t1\\n', b'9251303\\t\\xec\\x99\\x80.. \\xec\\x97\\xb0\\xea\\xb8\\xb0\\xea\\xb0\\x80 \\xec\\xa7\\x84\\xec\\xa7\\x9c \\xea\\xb0\\x9c\\xec\\xa9\\x94\\xea\\xb5\\xac\\xeb\\x82\\x98.. \\xec\\xa7\\x80\\xeb\\xa3\\xa8\\xed\\x95\\xa0\\xea\\xb1\\xb0\\xeb\\x9d\\xbc\\xea\\xb3\\xa0 \\xec\\x83\\x9d\\xea\\xb0\\x81\\xed\\x96\\x88\\xeb\\x8a\\x94\\xeb\\x8d\\xb0 \\xeb\\xaa\\xb0\\xec\\x9e\\x85\\xed\\x95\\xb4\\xec\\x84\\x9c \\xeb\\xb4\\xa4\\xeb\\x8b\\xa4.. \\xea\\xb7\\xb8\\xeb\\x9e\\x98 \\xec\\x9d\\xb4\\xeb\\x9f\\xb0\\xea\\xb2\\x8c \\xec\\xa7\\x84\\xec\\xa7\\x9c \\xec\\x98\\x81\\xed\\x99\\x94\\xec\\xa7\\x80\\t1\\n']\n"
     ]
    }
   ],
   "source": [
    "import urllib.request\n",
    "\n",
    "raw = urllib.request.urlopen('https://raw.githubusercontent.com/e9t/nsmc/master/ratings.txt').readlines()\n",
    "print(raw[:5])"
   ]
  },
  {
   "cell_type": "markdown",
   "metadata": {},
   "source": [
    "* 데이터를 확인해보면 모두 바이트로 이루어져 있으며, 리뷰 외의 다른 데이터도 존재\n",
    "* 데이터를 문자열로 변환하고 리뷰만 추출"
   ]
  },
  {
   "cell_type": "code",
   "execution_count": 18,
   "metadata": {},
   "outputs": [
    {
     "name": "stdout",
     "output_type": "stream",
     "text": [
      "b'id\\tdocument\\tlabel\\n'\n",
      "b'8112052\\t\\xec\\x96\\xb4\\xeb\\xa6\\xb4\\xeb\\x95\\x8c\\xeb\\xb3\\xb4\\xea\\xb3\\xa0 \\xec\\xa7\\x80\\xea\\xb8\\x88\\xeb\\x8b\\xa4\\xec\\x8b\\x9c\\xeb\\xb4\\x90\\xeb\\x8f\\x84 \\xec\\x9e\\xac\\xeb\\xb0\\x8c\\xec\\x96\\xb4\\xec\\x9a\\x94\\xe3\\x85\\x8b\\xe3\\x85\\x8b\\t1\\n'\n",
      "b'8132799\\t\\xeb\\x94\\x94\\xec\\x9e\\x90\\xec\\x9d\\xb8\\xec\\x9d\\x84 \\xeb\\xb0\\xb0\\xec\\x9a\\xb0\\xeb\\x8a\\x94 \\xed\\x95\\x99\\xec\\x83\\x9d\\xec\\x9c\\xbc\\xeb\\xa1\\x9c, \\xec\\x99\\xb8\\xea\\xb5\\xad\\xeb\\x94\\x94\\xec\\x9e\\x90\\xec\\x9d\\xb4\\xeb\\x84\\x88\\xec\\x99\\x80 \\xea\\xb7\\xb8\\xeb\\x93\\xa4\\xec\\x9d\\xb4 \\xec\\x9d\\xbc\\xea\\xb5\\xb0 \\xec\\xa0\\x84\\xed\\x86\\xb5\\xec\\x9d\\x84 \\xed\\x86\\xb5\\xed\\x95\\xb4 \\xeb\\xb0\\x9c\\xec\\xa0\\x84\\xed\\x95\\xb4\\xea\\xb0\\x80\\xeb\\x8a\\x94 \\xeb\\xac\\xb8\\xed\\x99\\x94\\xec\\x82\\xb0\\xec\\x97\\x85\\xec\\x9d\\xb4 \\xeb\\xb6\\x80\\xeb\\x9f\\xac\\xec\\x9b\\xa0\\xeb\\x8a\\x94\\xeb\\x8d\\xb0. \\xec\\x82\\xac\\xec\\x8b\\xa4 \\xec\\x9a\\xb0\\xeb\\xa6\\xac\\xeb\\x82\\x98\\xeb\\x9d\\xbc\\xec\\x97\\x90\\xec\\x84\\x9c\\xeb\\x8f\\x84 \\xea\\xb7\\xb8 \\xec\\x96\\xb4\\xeb\\xa0\\xa4\\xec\\x9a\\xb4\\xec\\x8b\\x9c\\xec\\xa0\\x88\\xec\\x97\\x90 \\xeb\\x81\\x9d\\xea\\xb9\\x8c\\xec\\xa7\\x80 \\xec\\x97\\xb4\\xec\\xa0\\x95\\xec\\x9d\\x84 \\xec\\xa7\\x80\\xed\\x82\\xa8 \\xeb\\x85\\xb8\\xeb\\x9d\\xbc\\xeb\\x85\\xb8 \\xea\\xb0\\x99\\xec\\x9d\\x80 \\xec\\xa0\\x84\\xed\\x86\\xb5\\xec\\x9d\\xb4\\xec\\x9e\\x88\\xec\\x96\\xb4 \\xec\\xa0\\x80\\xec\\x99\\x80 \\xea\\xb0\\x99\\xec\\x9d\\x80 \\xec\\x82\\xac\\xeb\\x9e\\x8c\\xeb\\x93\\xa4\\xec\\x9d\\xb4 \\xea\\xbf\\x88\\xec\\x9d\\x84 \\xea\\xbe\\xb8\\xea\\xb3\\xa0 \\xec\\x9d\\xb4\\xeb\\xa4\\x84\\xeb\\x82\\x98\\xea\\xb0\\x88 \\xec\\x88\\x98 \\xec\\x9e\\x88\\xeb\\x8b\\xa4\\xeb\\x8a\\x94 \\xea\\xb2\\x83\\xec\\x97\\x90 \\xea\\xb0\\x90\\xec\\x82\\xac\\xed\\x95\\xa9\\xeb\\x8b\\x88\\xeb\\x8b\\xa4.\\t1\\n'\n"
     ]
    }
   ],
   "source": [
    "for x in raw[:3]:\n",
    "    print(x)"
   ]
  },
  {
   "cell_type": "code",
   "execution_count": 20,
   "metadata": {},
   "outputs": [
    {
     "ename": "AttributeError",
     "evalue": "'str' object has no attribute 'decode'",
     "output_type": "error",
     "traceback": [
      "\u001b[1;31m---------------------------------------------------------------------------\u001b[0m",
      "\u001b[1;31mAttributeError\u001b[0m                            Traceback (most recent call last)",
      "\u001b[1;32m<ipython-input-20-d2ed4214b536>\u001b[0m in \u001b[0;36m<module>\u001b[1;34m\u001b[0m\n\u001b[1;32m----> 1\u001b[1;33m \u001b[0mraw\u001b[0m \u001b[1;33m=\u001b[0m \u001b[1;33m[\u001b[0m\u001b[0mx\u001b[0m\u001b[1;33m.\u001b[0m\u001b[0mdecode\u001b[0m\u001b[1;33m(\u001b[0m\u001b[1;33m)\u001b[0m \u001b[1;32mfor\u001b[0m \u001b[0mx\u001b[0m \u001b[1;32min\u001b[0m \u001b[0mraw\u001b[0m\u001b[1;33m[\u001b[0m\u001b[1;36m1\u001b[0m\u001b[1;33m:\u001b[0m\u001b[1;33m]\u001b[0m\u001b[1;33m]\u001b[0m\u001b[1;33m\u001b[0m\u001b[1;33m\u001b[0m\u001b[0m\n\u001b[0m\u001b[0;32m      2\u001b[0m \u001b[1;33m\u001b[0m\u001b[0m\n\u001b[0;32m      3\u001b[0m \u001b[0mreviews\u001b[0m \u001b[1;33m=\u001b[0m \u001b[1;33m[\u001b[0m\u001b[1;33m]\u001b[0m\u001b[1;33m\u001b[0m\u001b[1;33m\u001b[0m\u001b[0m\n\u001b[0;32m      4\u001b[0m \u001b[1;32mfor\u001b[0m \u001b[0mi\u001b[0m \u001b[1;32min\u001b[0m \u001b[0mraw\u001b[0m \u001b[1;33m:\u001b[0m\u001b[1;33m\u001b[0m\u001b[1;33m\u001b[0m\u001b[0m\n\u001b[0;32m      5\u001b[0m     \u001b[0mreviews\u001b[0m\u001b[1;33m.\u001b[0m\u001b[0mappend\u001b[0m\u001b[1;33m(\u001b[0m\u001b[0mi\u001b[0m\u001b[1;33m.\u001b[0m\u001b[0msplit\u001b[0m\u001b[1;33m(\u001b[0m\u001b[1;34m'\\t'\u001b[0m\u001b[1;33m)\u001b[0m\u001b[1;33m[\u001b[0m\u001b[1;36m1\u001b[0m\u001b[1;33m]\u001b[0m\u001b[1;33m)\u001b[0m\u001b[1;33m\u001b[0m\u001b[1;33m\u001b[0m\u001b[0m\n",
      "\u001b[1;32m<ipython-input-20-d2ed4214b536>\u001b[0m in \u001b[0;36m<listcomp>\u001b[1;34m(.0)\u001b[0m\n\u001b[1;32m----> 1\u001b[1;33m \u001b[0mraw\u001b[0m \u001b[1;33m=\u001b[0m \u001b[1;33m[\u001b[0m\u001b[0mx\u001b[0m\u001b[1;33m.\u001b[0m\u001b[0mdecode\u001b[0m\u001b[1;33m(\u001b[0m\u001b[1;33m)\u001b[0m \u001b[1;32mfor\u001b[0m \u001b[0mx\u001b[0m \u001b[1;32min\u001b[0m \u001b[0mraw\u001b[0m\u001b[1;33m[\u001b[0m\u001b[1;36m1\u001b[0m\u001b[1;33m:\u001b[0m\u001b[1;33m]\u001b[0m\u001b[1;33m]\u001b[0m\u001b[1;33m\u001b[0m\u001b[1;33m\u001b[0m\u001b[0m\n\u001b[0m\u001b[0;32m      2\u001b[0m \u001b[1;33m\u001b[0m\u001b[0m\n\u001b[0;32m      3\u001b[0m \u001b[0mreviews\u001b[0m \u001b[1;33m=\u001b[0m \u001b[1;33m[\u001b[0m\u001b[1;33m]\u001b[0m\u001b[1;33m\u001b[0m\u001b[1;33m\u001b[0m\u001b[0m\n\u001b[0;32m      4\u001b[0m \u001b[1;32mfor\u001b[0m \u001b[0mi\u001b[0m \u001b[1;32min\u001b[0m \u001b[0mraw\u001b[0m \u001b[1;33m:\u001b[0m\u001b[1;33m\u001b[0m\u001b[1;33m\u001b[0m\u001b[0m\n\u001b[0;32m      5\u001b[0m     \u001b[0mreviews\u001b[0m\u001b[1;33m.\u001b[0m\u001b[0mappend\u001b[0m\u001b[1;33m(\u001b[0m\u001b[0mi\u001b[0m\u001b[1;33m.\u001b[0m\u001b[0msplit\u001b[0m\u001b[1;33m(\u001b[0m\u001b[1;34m'\\t'\u001b[0m\u001b[1;33m)\u001b[0m\u001b[1;33m[\u001b[0m\u001b[1;36m1\u001b[0m\u001b[1;33m]\u001b[0m\u001b[1;33m)\u001b[0m\u001b[1;33m\u001b[0m\u001b[1;33m\u001b[0m\u001b[0m\n",
      "\u001b[1;31mAttributeError\u001b[0m: 'str' object has no attribute 'decode'"
     ]
    }
   ],
   "source": [
    "raw = [x.decode() for x in raw[1:]]\n",
    "\n",
    "reviews = []\n",
    "for i in raw : \n",
    "    reviews.append(i.split('\\t')[1])\n",
    "    \n",
    "print(reviews[:5])"
   ]
  },
  {
   "cell_type": "markdown",
   "metadata": {},
   "source": [
    "## 형태소 분석을 이용한 명사 추출\n",
    "* 형태소 분석기 Mecab으로 명사만 추출"
   ]
  },
  {
   "cell_type": "code",
   "execution_count": null,
   "metadata": {},
   "outputs": [],
   "source": []
  },
  {
   "cell_type": "code",
   "execution_count": null,
   "metadata": {},
   "outputs": [],
   "source": []
  },
  {
   "cell_type": "code",
   "execution_count": null,
   "metadata": {},
   "outputs": [],
   "source": []
  },
  {
   "cell_type": "code",
   "execution_count": null,
   "metadata": {},
   "outputs": [],
   "source": []
  },
  {
   "cell_type": "code",
   "execution_count": null,
   "metadata": {},
   "outputs": [],
   "source": []
  },
  {
   "cell_type": "code",
   "execution_count": null,
   "metadata": {},
   "outputs": [],
   "source": []
  },
  {
   "cell_type": "code",
   "execution_count": null,
   "metadata": {},
   "outputs": [],
   "source": []
  },
  {
   "cell_type": "code",
   "execution_count": null,
   "metadata": {},
   "outputs": [],
   "source": []
  },
  {
   "cell_type": "code",
   "execution_count": null,
   "metadata": {},
   "outputs": [],
   "source": []
  },
  {
   "cell_type": "code",
   "execution_count": null,
   "metadata": {},
   "outputs": [],
   "source": []
  },
  {
   "cell_type": "code",
   "execution_count": null,
   "metadata": {},
   "outputs": [],
   "source": []
  },
  {
   "cell_type": "code",
   "execution_count": null,
   "metadata": {},
   "outputs": [],
   "source": []
  },
  {
   "cell_type": "code",
   "execution_count": null,
   "metadata": {},
   "outputs": [],
   "source": []
  },
  {
   "cell_type": "code",
   "execution_count": null,
   "metadata": {},
   "outputs": [],
   "source": []
  },
  {
   "cell_type": "code",
   "execution_count": null,
   "metadata": {},
   "outputs": [],
   "source": []
  },
  {
   "cell_type": "code",
   "execution_count": null,
   "metadata": {},
   "outputs": [],
   "source": []
  },
  {
   "cell_type": "code",
   "execution_count": null,
   "metadata": {},
   "outputs": [],
   "source": []
  },
  {
   "cell_type": "code",
   "execution_count": null,
   "metadata": {},
   "outputs": [],
   "source": []
  },
  {
   "cell_type": "code",
   "execution_count": null,
   "metadata": {},
   "outputs": [],
   "source": []
  },
  {
   "cell_type": "code",
   "execution_count": null,
   "metadata": {},
   "outputs": [],
   "source": []
  },
  {
   "cell_type": "code",
   "execution_count": null,
   "metadata": {},
   "outputs": [],
   "source": []
  },
  {
   "cell_type": "code",
   "execution_count": null,
   "metadata": {},
   "outputs": [],
   "source": []
  },
  {
   "cell_type": "code",
   "execution_count": null,
   "metadata": {},
   "outputs": [],
   "source": []
  },
  {
   "cell_type": "code",
   "execution_count": null,
   "metadata": {},
   "outputs": [],
   "source": []
  },
  {
   "cell_type": "code",
   "execution_count": null,
   "metadata": {},
   "outputs": [],
   "source": []
  },
  {
   "cell_type": "code",
   "execution_count": null,
   "metadata": {},
   "outputs": [],
   "source": []
  },
  {
   "cell_type": "code",
   "execution_count": null,
   "metadata": {},
   "outputs": [],
   "source": []
  },
  {
   "cell_type": "code",
   "execution_count": null,
   "metadata": {},
   "outputs": [],
   "source": []
  },
  {
   "cell_type": "code",
   "execution_count": null,
   "metadata": {},
   "outputs": [],
   "source": []
  },
  {
   "cell_type": "code",
   "execution_count": null,
   "metadata": {},
   "outputs": [],
   "source": []
  },
  {
   "cell_type": "code",
   "execution_count": null,
   "metadata": {},
   "outputs": [],
   "source": []
  },
  {
   "cell_type": "code",
   "execution_count": null,
   "metadata": {},
   "outputs": [],
   "source": []
  },
  {
   "cell_type": "code",
   "execution_count": null,
   "metadata": {},
   "outputs": [],
   "source": []
  },
  {
   "cell_type": "code",
   "execution_count": null,
   "metadata": {},
   "outputs": [],
   "source": []
  },
  {
   "cell_type": "code",
   "execution_count": null,
   "metadata": {},
   "outputs": [],
   "source": []
  }
 ],
 "metadata": {
  "kernelspec": {
   "display_name": "Python 3",
   "language": "python",
   "name": "python3"
  },
  "language_info": {
   "codemirror_mode": {
    "name": "ipython",
    "version": 3
   },
   "file_extension": ".py",
   "mimetype": "text/x-python",
   "name": "python",
   "nbconvert_exporter": "python",
   "pygments_lexer": "ipython3",
   "version": "3.7.7"
  }
 },
 "nbformat": 4,
 "nbformat_minor": 4
}
